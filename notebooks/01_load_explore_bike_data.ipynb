{
 "cells": [
  {
   "cell_type": "code",
   "execution_count": 1,
   "id": "f3dfe13c",
   "metadata": {},
   "outputs": [],
   "source": [
    "import pandas as pd\n",
    "import numpy as np\n",
    "import matplotlib.pyplot as plt\n",
    "import seaborn as sns\n",
    "from pathlib import Path\n",
    "import os\n",
    "\n",
    "# Display settings\n",
    "pd.set_option(\"display.max_columns\", None)\n",
    "sns.set(style=\"whitegrid\")\n"
   ]
  },
  {
   "cell_type": "code",
   "execution_count": 2,
   "id": "3692cb1b",
   "metadata": {},
   "outputs": [
    {
     "name": "stdout",
     "output_type": "stream",
     "text": [
      "Found 52 CSV files to load:\n",
      "  202301-citibike-tripdata_1.csv\n",
      "  202301-citibike-tripdata_2.csv\n",
      "  202302-citibike-tripdata_1.csv\n",
      "  202302-citibike-tripdata_2.csv\n",
      "  202303-citibike-tripdata_1.csv\n",
      "  202303-citibike-tripdata_2.csv\n",
      "  202303-citibike-tripdata_3.csv\n",
      "  202304-citibike-tripdata_1.csv\n",
      "  202304-citibike-tripdata_2.csv\n",
      "  202304-citibike-tripdata_3.csv\n",
      "  202305-citibike-tripdata_1.csv\n",
      "  202305-citibike-tripdata_2.csv\n",
      "  202305-citibike-tripdata_3.csv\n",
      "  202305-citibike-tripdata_4.csv\n",
      "  202306-citibike-tripdata_1.csv\n",
      "  202306-citibike-tripdata_2.csv\n",
      "  202306-citibike-tripdata_3.csv\n",
      "  202306-citibike-tripdata_4.csv\n",
      "  202307-citibike-tripdata_1.csv\n",
      "  202307-citibike-tripdata_2.csv\n",
      "  202307-citibike-tripdata_3.csv\n",
      "  202307-citibike-tripdata_4.csv\n",
      "  202308-citibike-tripdata_1.csv\n",
      "  202308-citibike-tripdata_2.csv\n",
      "  202308-citibike-tripdata_3.csv\n",
      "  202308-citibike-tripdata_4.csv\n",
      "  202309-citibike-tripdata_1.csv\n",
      "  202309-citibike-tripdata_2.csv\n",
      "  202309-citibike-tripdata_3.csv\n",
      "  202309-citibike-tripdata_4.csv\n",
      "  202310-citibike-tripdata_1.csv\n",
      "  202310-citibike-tripdata_2.csv\n",
      "  202310-citibike-tripdata_3.csv\n",
      "  202310-citibike-tripdata_4.csv\n",
      "  202311-citibike-tripdata_1.csv\n",
      "  202311-citibike-tripdata_2.csv\n",
      "  202311-citibike-tripdata_3.csv\n",
      "  202312-citibike-tripdata_1.csv\n",
      "  202312-citibike-tripdata_2.csv\n",
      "  202312-citibike-tripdata_3.csv\n",
      "  202305-citibike-tripdata_1.csv\n",
      "  202305-citibike-tripdata_2.csv\n",
      "  202305-citibike-tripdata_3.csv\n",
      "  202305-citibike-tripdata_4.csv\n",
      "  202306-citibike-tripdata_1.csv\n",
      "  202306-citibike-tripdata_2.csv\n",
      "  202306-citibike-tripdata_3.csv\n",
      "  202306-citibike-tripdata_4.csv\n",
      "  202307-citibike-tripdata_1.csv\n",
      "  202307-citibike-tripdata_2.csv\n",
      "  202307-citibike-tripdata_3.csv\n",
      "  202307-citibike-tripdata_4.csv\n",
      "\n",
      "Loading 52 files...\n",
      "Loading file 1/52: 202301-citibike-tripdata_1.csv\n"
     ]
    },
    {
     "name": "stderr",
     "output_type": "stream",
     "text": [
      "C:\\Users\\21654\\AppData\\Local\\Temp\\ipykernel_16780\\3385080580.py:18: DtypeWarning: Columns (5,7) have mixed types. Specify dtype option on import or set low_memory=False.\n",
      "  df_temp = pd.read_csv(file)\n"
     ]
    },
    {
     "name": "stdout",
     "output_type": "stream",
     "text": [
      "Loading file 2/52: 202301-citibike-tripdata_2.csv\n"
     ]
    },
    {
     "name": "stderr",
     "output_type": "stream",
     "text": [
      "C:\\Users\\21654\\AppData\\Local\\Temp\\ipykernel_16780\\3385080580.py:18: DtypeWarning: Columns (5,7) have mixed types. Specify dtype option on import or set low_memory=False.\n",
      "  df_temp = pd.read_csv(file)\n"
     ]
    },
    {
     "name": "stdout",
     "output_type": "stream",
     "text": [
      "Loading file 3/52: 202302-citibike-tripdata_1.csv\n"
     ]
    },
    {
     "name": "stderr",
     "output_type": "stream",
     "text": [
      "C:\\Users\\21654\\AppData\\Local\\Temp\\ipykernel_16780\\3385080580.py:18: DtypeWarning: Columns (5,7) have mixed types. Specify dtype option on import or set low_memory=False.\n",
      "  df_temp = pd.read_csv(file)\n"
     ]
    },
    {
     "name": "stdout",
     "output_type": "stream",
     "text": [
      "Loading file 4/52: 202302-citibike-tripdata_2.csv\n"
     ]
    },
    {
     "name": "stderr",
     "output_type": "stream",
     "text": [
      "C:\\Users\\21654\\AppData\\Local\\Temp\\ipykernel_16780\\3385080580.py:18: DtypeWarning: Columns (5) have mixed types. Specify dtype option on import or set low_memory=False.\n",
      "  df_temp = pd.read_csv(file)\n"
     ]
    },
    {
     "name": "stdout",
     "output_type": "stream",
     "text": [
      "Loading file 5/52: 202303-citibike-tripdata_1.csv\n"
     ]
    },
    {
     "name": "stderr",
     "output_type": "stream",
     "text": [
      "C:\\Users\\21654\\AppData\\Local\\Temp\\ipykernel_16780\\3385080580.py:18: DtypeWarning: Columns (7) have mixed types. Specify dtype option on import or set low_memory=False.\n",
      "  df_temp = pd.read_csv(file)\n"
     ]
    },
    {
     "name": "stdout",
     "output_type": "stream",
     "text": [
      "Loading file 6/52: 202303-citibike-tripdata_2.csv\n"
     ]
    },
    {
     "name": "stderr",
     "output_type": "stream",
     "text": [
      "C:\\Users\\21654\\AppData\\Local\\Temp\\ipykernel_16780\\3385080580.py:18: DtypeWarning: Columns (7) have mixed types. Specify dtype option on import or set low_memory=False.\n",
      "  df_temp = pd.read_csv(file)\n"
     ]
    },
    {
     "name": "stdout",
     "output_type": "stream",
     "text": [
      "Loading file 7/52: 202303-citibike-tripdata_3.csv\n"
     ]
    },
    {
     "name": "stderr",
     "output_type": "stream",
     "text": [
      "C:\\Users\\21654\\AppData\\Local\\Temp\\ipykernel_16780\\3385080580.py:18: DtypeWarning: Columns (7) have mixed types. Specify dtype option on import or set low_memory=False.\n",
      "  df_temp = pd.read_csv(file)\n"
     ]
    },
    {
     "name": "stdout",
     "output_type": "stream",
     "text": [
      "Loading file 8/52: 202304-citibike-tripdata_1.csv\n"
     ]
    },
    {
     "name": "stderr",
     "output_type": "stream",
     "text": [
      "C:\\Users\\21654\\AppData\\Local\\Temp\\ipykernel_16780\\3385080580.py:18: DtypeWarning: Columns (5) have mixed types. Specify dtype option on import or set low_memory=False.\n",
      "  df_temp = pd.read_csv(file)\n"
     ]
    },
    {
     "name": "stdout",
     "output_type": "stream",
     "text": [
      "Loading file 9/52: 202304-citibike-tripdata_2.csv\n"
     ]
    },
    {
     "name": "stderr",
     "output_type": "stream",
     "text": [
      "C:\\Users\\21654\\AppData\\Local\\Temp\\ipykernel_16780\\3385080580.py:18: DtypeWarning: Columns (5,7) have mixed types. Specify dtype option on import or set low_memory=False.\n",
      "  df_temp = pd.read_csv(file)\n"
     ]
    },
    {
     "name": "stdout",
     "output_type": "stream",
     "text": [
      "Loading file 10/52: 202304-citibike-tripdata_3.csv\n"
     ]
    },
    {
     "name": "stderr",
     "output_type": "stream",
     "text": [
      "C:\\Users\\21654\\AppData\\Local\\Temp\\ipykernel_16780\\3385080580.py:18: DtypeWarning: Columns (5,7) have mixed types. Specify dtype option on import or set low_memory=False.\n",
      "  df_temp = pd.read_csv(file)\n"
     ]
    },
    {
     "name": "stdout",
     "output_type": "stream",
     "text": [
      "Loading file 11/52: 202305-citibike-tripdata_1.csv\n"
     ]
    },
    {
     "name": "stderr",
     "output_type": "stream",
     "text": [
      "C:\\Users\\21654\\AppData\\Local\\Temp\\ipykernel_16780\\3385080580.py:18: DtypeWarning: Columns (7) have mixed types. Specify dtype option on import or set low_memory=False.\n",
      "  df_temp = pd.read_csv(file)\n"
     ]
    },
    {
     "name": "stdout",
     "output_type": "stream",
     "text": [
      "Loading file 12/52: 202305-citibike-tripdata_2.csv\n"
     ]
    },
    {
     "name": "stderr",
     "output_type": "stream",
     "text": [
      "C:\\Users\\21654\\AppData\\Local\\Temp\\ipykernel_16780\\3385080580.py:18: DtypeWarning: Columns (7) have mixed types. Specify dtype option on import or set low_memory=False.\n",
      "  df_temp = pd.read_csv(file)\n"
     ]
    },
    {
     "name": "stdout",
     "output_type": "stream",
     "text": [
      "Loading file 13/52: 202305-citibike-tripdata_3.csv\n"
     ]
    },
    {
     "name": "stderr",
     "output_type": "stream",
     "text": [
      "C:\\Users\\21654\\AppData\\Local\\Temp\\ipykernel_16780\\3385080580.py:18: DtypeWarning: Columns (5,7) have mixed types. Specify dtype option on import or set low_memory=False.\n",
      "  df_temp = pd.read_csv(file)\n"
     ]
    },
    {
     "name": "stdout",
     "output_type": "stream",
     "text": [
      "Loading file 14/52: 202305-citibike-tripdata_4.csv\n"
     ]
    },
    {
     "name": "stderr",
     "output_type": "stream",
     "text": [
      "C:\\Users\\21654\\AppData\\Local\\Temp\\ipykernel_16780\\3385080580.py:18: DtypeWarning: Columns (7) have mixed types. Specify dtype option on import or set low_memory=False.\n",
      "  df_temp = pd.read_csv(file)\n"
     ]
    },
    {
     "name": "stdout",
     "output_type": "stream",
     "text": [
      "Loading file 15/52: 202306-citibike-tripdata_1.csv\n"
     ]
    },
    {
     "name": "stderr",
     "output_type": "stream",
     "text": [
      "C:\\Users\\21654\\AppData\\Local\\Temp\\ipykernel_16780\\3385080580.py:18: DtypeWarning: Columns (5,7) have mixed types. Specify dtype option on import or set low_memory=False.\n",
      "  df_temp = pd.read_csv(file)\n"
     ]
    },
    {
     "name": "stdout",
     "output_type": "stream",
     "text": [
      "Loading file 16/52: 202306-citibike-tripdata_2.csv\n"
     ]
    },
    {
     "name": "stderr",
     "output_type": "stream",
     "text": [
      "C:\\Users\\21654\\AppData\\Local\\Temp\\ipykernel_16780\\3385080580.py:18: DtypeWarning: Columns (5,7) have mixed types. Specify dtype option on import or set low_memory=False.\n",
      "  df_temp = pd.read_csv(file)\n"
     ]
    },
    {
     "name": "stdout",
     "output_type": "stream",
     "text": [
      "Loading file 17/52: 202306-citibike-tripdata_3.csv\n"
     ]
    },
    {
     "name": "stderr",
     "output_type": "stream",
     "text": [
      "C:\\Users\\21654\\AppData\\Local\\Temp\\ipykernel_16780\\3385080580.py:18: DtypeWarning: Columns (5,7) have mixed types. Specify dtype option on import or set low_memory=False.\n",
      "  df_temp = pd.read_csv(file)\n"
     ]
    },
    {
     "name": "stdout",
     "output_type": "stream",
     "text": [
      "Loading file 18/52: 202306-citibike-tripdata_4.csv\n"
     ]
    },
    {
     "name": "stderr",
     "output_type": "stream",
     "text": [
      "C:\\Users\\21654\\AppData\\Local\\Temp\\ipykernel_16780\\3385080580.py:18: DtypeWarning: Columns (5) have mixed types. Specify dtype option on import or set low_memory=False.\n",
      "  df_temp = pd.read_csv(file)\n"
     ]
    },
    {
     "name": "stdout",
     "output_type": "stream",
     "text": [
      "Loading file 19/52: 202307-citibike-tripdata_1.csv\n",
      "Loading file 20/52: 202307-citibike-tripdata_2.csv\n"
     ]
    },
    {
     "name": "stderr",
     "output_type": "stream",
     "text": [
      "C:\\Users\\21654\\AppData\\Local\\Temp\\ipykernel_16780\\3385080580.py:18: DtypeWarning: Columns (5,7) have mixed types. Specify dtype option on import or set low_memory=False.\n",
      "  df_temp = pd.read_csv(file)\n"
     ]
    },
    {
     "name": "stdout",
     "output_type": "stream",
     "text": [
      "Loading file 21/52: 202307-citibike-tripdata_3.csv\n"
     ]
    },
    {
     "name": "stderr",
     "output_type": "stream",
     "text": [
      "C:\\Users\\21654\\AppData\\Local\\Temp\\ipykernel_16780\\3385080580.py:18: DtypeWarning: Columns (5) have mixed types. Specify dtype option on import or set low_memory=False.\n",
      "  df_temp = pd.read_csv(file)\n"
     ]
    },
    {
     "name": "stdout",
     "output_type": "stream",
     "text": [
      "Loading file 22/52: 202307-citibike-tripdata_4.csv\n"
     ]
    },
    {
     "name": "stderr",
     "output_type": "stream",
     "text": [
      "C:\\Users\\21654\\AppData\\Local\\Temp\\ipykernel_16780\\3385080580.py:18: DtypeWarning: Columns (5,7) have mixed types. Specify dtype option on import or set low_memory=False.\n",
      "  df_temp = pd.read_csv(file)\n"
     ]
    },
    {
     "name": "stdout",
     "output_type": "stream",
     "text": [
      "Loading file 23/52: 202308-citibike-tripdata_1.csv\n"
     ]
    },
    {
     "name": "stderr",
     "output_type": "stream",
     "text": [
      "C:\\Users\\21654\\AppData\\Local\\Temp\\ipykernel_16780\\3385080580.py:18: DtypeWarning: Columns (5,7) have mixed types. Specify dtype option on import or set low_memory=False.\n",
      "  df_temp = pd.read_csv(file)\n"
     ]
    },
    {
     "name": "stdout",
     "output_type": "stream",
     "text": [
      "Loading file 24/52: 202308-citibike-tripdata_2.csv\n"
     ]
    },
    {
     "name": "stderr",
     "output_type": "stream",
     "text": [
      "C:\\Users\\21654\\AppData\\Local\\Temp\\ipykernel_16780\\3385080580.py:18: DtypeWarning: Columns (5,7) have mixed types. Specify dtype option on import or set low_memory=False.\n",
      "  df_temp = pd.read_csv(file)\n"
     ]
    },
    {
     "name": "stdout",
     "output_type": "stream",
     "text": [
      "Loading file 25/52: 202308-citibike-tripdata_3.csv\n"
     ]
    },
    {
     "name": "stderr",
     "output_type": "stream",
     "text": [
      "C:\\Users\\21654\\AppData\\Local\\Temp\\ipykernel_16780\\3385080580.py:18: DtypeWarning: Columns (5,7) have mixed types. Specify dtype option on import or set low_memory=False.\n",
      "  df_temp = pd.read_csv(file)\n"
     ]
    },
    {
     "name": "stdout",
     "output_type": "stream",
     "text": [
      "Loading file 26/52: 202308-citibike-tripdata_4.csv\n"
     ]
    },
    {
     "name": "stderr",
     "output_type": "stream",
     "text": [
      "C:\\Users\\21654\\AppData\\Local\\Temp\\ipykernel_16780\\3385080580.py:18: DtypeWarning: Columns (5,7) have mixed types. Specify dtype option on import or set low_memory=False.\n",
      "  df_temp = pd.read_csv(file)\n"
     ]
    },
    {
     "name": "stdout",
     "output_type": "stream",
     "text": [
      "Loading file 27/52: 202309-citibike-tripdata_1.csv\n"
     ]
    },
    {
     "name": "stderr",
     "output_type": "stream",
     "text": [
      "C:\\Users\\21654\\AppData\\Local\\Temp\\ipykernel_16780\\3385080580.py:18: DtypeWarning: Columns (5,7) have mixed types. Specify dtype option on import or set low_memory=False.\n",
      "  df_temp = pd.read_csv(file)\n"
     ]
    },
    {
     "name": "stdout",
     "output_type": "stream",
     "text": [
      "Loading file 28/52: 202309-citibike-tripdata_2.csv\n"
     ]
    },
    {
     "name": "stderr",
     "output_type": "stream",
     "text": [
      "C:\\Users\\21654\\AppData\\Local\\Temp\\ipykernel_16780\\3385080580.py:18: DtypeWarning: Columns (5,7) have mixed types. Specify dtype option on import or set low_memory=False.\n",
      "  df_temp = pd.read_csv(file)\n"
     ]
    },
    {
     "name": "stdout",
     "output_type": "stream",
     "text": [
      "Loading file 29/52: 202309-citibike-tripdata_3.csv\n"
     ]
    },
    {
     "name": "stderr",
     "output_type": "stream",
     "text": [
      "C:\\Users\\21654\\AppData\\Local\\Temp\\ipykernel_16780\\3385080580.py:18: DtypeWarning: Columns (5,7) have mixed types. Specify dtype option on import or set low_memory=False.\n",
      "  df_temp = pd.read_csv(file)\n"
     ]
    },
    {
     "name": "stdout",
     "output_type": "stream",
     "text": [
      "Loading file 30/52: 202309-citibike-tripdata_4.csv\n"
     ]
    },
    {
     "name": "stderr",
     "output_type": "stream",
     "text": [
      "C:\\Users\\21654\\AppData\\Local\\Temp\\ipykernel_16780\\3385080580.py:18: DtypeWarning: Columns (5,7) have mixed types. Specify dtype option on import or set low_memory=False.\n",
      "  df_temp = pd.read_csv(file)\n"
     ]
    },
    {
     "name": "stdout",
     "output_type": "stream",
     "text": [
      "Loading file 31/52: 202310-citibike-tripdata_1.csv\n"
     ]
    },
    {
     "name": "stderr",
     "output_type": "stream",
     "text": [
      "C:\\Users\\21654\\AppData\\Local\\Temp\\ipykernel_16780\\3385080580.py:18: DtypeWarning: Columns (5,7) have mixed types. Specify dtype option on import or set low_memory=False.\n",
      "  df_temp = pd.read_csv(file)\n"
     ]
    },
    {
     "name": "stdout",
     "output_type": "stream",
     "text": [
      "Loading file 32/52: 202310-citibike-tripdata_2.csv\n"
     ]
    },
    {
     "name": "stderr",
     "output_type": "stream",
     "text": [
      "C:\\Users\\21654\\AppData\\Local\\Temp\\ipykernel_16780\\3385080580.py:18: DtypeWarning: Columns (5,7) have mixed types. Specify dtype option on import or set low_memory=False.\n",
      "  df_temp = pd.read_csv(file)\n"
     ]
    },
    {
     "name": "stdout",
     "output_type": "stream",
     "text": [
      "Loading file 33/52: 202310-citibike-tripdata_3.csv\n"
     ]
    },
    {
     "name": "stderr",
     "output_type": "stream",
     "text": [
      "C:\\Users\\21654\\AppData\\Local\\Temp\\ipykernel_16780\\3385080580.py:18: DtypeWarning: Columns (7) have mixed types. Specify dtype option on import or set low_memory=False.\n",
      "  df_temp = pd.read_csv(file)\n"
     ]
    },
    {
     "name": "stdout",
     "output_type": "stream",
     "text": [
      "Loading file 34/52: 202310-citibike-tripdata_4.csv\n"
     ]
    },
    {
     "name": "stderr",
     "output_type": "stream",
     "text": [
      "C:\\Users\\21654\\AppData\\Local\\Temp\\ipykernel_16780\\3385080580.py:18: DtypeWarning: Columns (7) have mixed types. Specify dtype option on import or set low_memory=False.\n",
      "  df_temp = pd.read_csv(file)\n"
     ]
    },
    {
     "name": "stdout",
     "output_type": "stream",
     "text": [
      "Loading file 35/52: 202311-citibike-tripdata_1.csv\n"
     ]
    },
    {
     "name": "stderr",
     "output_type": "stream",
     "text": [
      "C:\\Users\\21654\\AppData\\Local\\Temp\\ipykernel_16780\\3385080580.py:18: DtypeWarning: Columns (7) have mixed types. Specify dtype option on import or set low_memory=False.\n",
      "  df_temp = pd.read_csv(file)\n"
     ]
    },
    {
     "name": "stdout",
     "output_type": "stream",
     "text": [
      "Loading file 36/52: 202311-citibike-tripdata_2.csv\n"
     ]
    },
    {
     "name": "stderr",
     "output_type": "stream",
     "text": [
      "C:\\Users\\21654\\AppData\\Local\\Temp\\ipykernel_16780\\3385080580.py:18: DtypeWarning: Columns (7) have mixed types. Specify dtype option on import or set low_memory=False.\n",
      "  df_temp = pd.read_csv(file)\n"
     ]
    },
    {
     "name": "stdout",
     "output_type": "stream",
     "text": [
      "Loading file 37/52: 202311-citibike-tripdata_3.csv\n"
     ]
    },
    {
     "name": "stderr",
     "output_type": "stream",
     "text": [
      "C:\\Users\\21654\\AppData\\Local\\Temp\\ipykernel_16780\\3385080580.py:18: DtypeWarning: Columns (7) have mixed types. Specify dtype option on import or set low_memory=False.\n",
      "  df_temp = pd.read_csv(file)\n"
     ]
    },
    {
     "name": "stdout",
     "output_type": "stream",
     "text": [
      "Loading file 38/52: 202312-citibike-tripdata_1.csv\n",
      "Loading file 39/52: 202312-citibike-tripdata_2.csv\n"
     ]
    },
    {
     "name": "stderr",
     "output_type": "stream",
     "text": [
      "C:\\Users\\21654\\AppData\\Local\\Temp\\ipykernel_16780\\3385080580.py:18: DtypeWarning: Columns (5,7) have mixed types. Specify dtype option on import or set low_memory=False.\n",
      "  df_temp = pd.read_csv(file)\n"
     ]
    },
    {
     "name": "stdout",
     "output_type": "stream",
     "text": [
      "Loading file 40/52: 202312-citibike-tripdata_3.csv\n"
     ]
    },
    {
     "name": "stderr",
     "output_type": "stream",
     "text": [
      "C:\\Users\\21654\\AppData\\Local\\Temp\\ipykernel_16780\\3385080580.py:18: DtypeWarning: Columns (7) have mixed types. Specify dtype option on import or set low_memory=False.\n",
      "  df_temp = pd.read_csv(file)\n"
     ]
    },
    {
     "name": "stdout",
     "output_type": "stream",
     "text": [
      "Loading file 41/52: 202305-citibike-tripdata_1.csv\n"
     ]
    },
    {
     "name": "stderr",
     "output_type": "stream",
     "text": [
      "C:\\Users\\21654\\AppData\\Local\\Temp\\ipykernel_16780\\3385080580.py:18: DtypeWarning: Columns (7) have mixed types. Specify dtype option on import or set low_memory=False.\n",
      "  df_temp = pd.read_csv(file)\n"
     ]
    },
    {
     "name": "stdout",
     "output_type": "stream",
     "text": [
      "Loading file 42/52: 202305-citibike-tripdata_2.csv\n"
     ]
    },
    {
     "name": "stderr",
     "output_type": "stream",
     "text": [
      "C:\\Users\\21654\\AppData\\Local\\Temp\\ipykernel_16780\\3385080580.py:18: DtypeWarning: Columns (7) have mixed types. Specify dtype option on import or set low_memory=False.\n",
      "  df_temp = pd.read_csv(file)\n"
     ]
    },
    {
     "name": "stdout",
     "output_type": "stream",
     "text": [
      "Loading file 43/52: 202305-citibike-tripdata_3.csv\n"
     ]
    },
    {
     "name": "stderr",
     "output_type": "stream",
     "text": [
      "C:\\Users\\21654\\AppData\\Local\\Temp\\ipykernel_16780\\3385080580.py:18: DtypeWarning: Columns (5,7) have mixed types. Specify dtype option on import or set low_memory=False.\n",
      "  df_temp = pd.read_csv(file)\n"
     ]
    },
    {
     "name": "stdout",
     "output_type": "stream",
     "text": [
      "Loading file 44/52: 202305-citibike-tripdata_4.csv\n"
     ]
    },
    {
     "name": "stderr",
     "output_type": "stream",
     "text": [
      "C:\\Users\\21654\\AppData\\Local\\Temp\\ipykernel_16780\\3385080580.py:18: DtypeWarning: Columns (7) have mixed types. Specify dtype option on import or set low_memory=False.\n",
      "  df_temp = pd.read_csv(file)\n"
     ]
    },
    {
     "name": "stdout",
     "output_type": "stream",
     "text": [
      "Loading file 45/52: 202306-citibike-tripdata_1.csv\n"
     ]
    },
    {
     "name": "stderr",
     "output_type": "stream",
     "text": [
      "C:\\Users\\21654\\AppData\\Local\\Temp\\ipykernel_16780\\3385080580.py:18: DtypeWarning: Columns (5,7) have mixed types. Specify dtype option on import or set low_memory=False.\n",
      "  df_temp = pd.read_csv(file)\n"
     ]
    },
    {
     "name": "stdout",
     "output_type": "stream",
     "text": [
      "Loading file 46/52: 202306-citibike-tripdata_2.csv\n"
     ]
    },
    {
     "name": "stderr",
     "output_type": "stream",
     "text": [
      "C:\\Users\\21654\\AppData\\Local\\Temp\\ipykernel_16780\\3385080580.py:18: DtypeWarning: Columns (5,7) have mixed types. Specify dtype option on import or set low_memory=False.\n",
      "  df_temp = pd.read_csv(file)\n"
     ]
    },
    {
     "name": "stdout",
     "output_type": "stream",
     "text": [
      "Loading file 47/52: 202306-citibike-tripdata_3.csv\n"
     ]
    },
    {
     "name": "stderr",
     "output_type": "stream",
     "text": [
      "C:\\Users\\21654\\AppData\\Local\\Temp\\ipykernel_16780\\3385080580.py:18: DtypeWarning: Columns (5,7) have mixed types. Specify dtype option on import or set low_memory=False.\n",
      "  df_temp = pd.read_csv(file)\n"
     ]
    },
    {
     "name": "stdout",
     "output_type": "stream",
     "text": [
      "Loading file 48/52: 202306-citibike-tripdata_4.csv\n"
     ]
    },
    {
     "name": "stderr",
     "output_type": "stream",
     "text": [
      "C:\\Users\\21654\\AppData\\Local\\Temp\\ipykernel_16780\\3385080580.py:18: DtypeWarning: Columns (5) have mixed types. Specify dtype option on import or set low_memory=False.\n",
      "  df_temp = pd.read_csv(file)\n"
     ]
    },
    {
     "name": "stdout",
     "output_type": "stream",
     "text": [
      "Loading file 49/52: 202307-citibike-tripdata_1.csv\n",
      "Loading file 50/52: 202307-citibike-tripdata_2.csv\n"
     ]
    },
    {
     "name": "stderr",
     "output_type": "stream",
     "text": [
      "C:\\Users\\21654\\AppData\\Local\\Temp\\ipykernel_16780\\3385080580.py:18: DtypeWarning: Columns (5,7) have mixed types. Specify dtype option on import or set low_memory=False.\n",
      "  df_temp = pd.read_csv(file)\n"
     ]
    },
    {
     "name": "stdout",
     "output_type": "stream",
     "text": [
      "Loading file 51/52: 202307-citibike-tripdata_3.csv\n"
     ]
    },
    {
     "name": "stderr",
     "output_type": "stream",
     "text": [
      "C:\\Users\\21654\\AppData\\Local\\Temp\\ipykernel_16780\\3385080580.py:18: DtypeWarning: Columns (5) have mixed types. Specify dtype option on import or set low_memory=False.\n",
      "  df_temp = pd.read_csv(file)\n"
     ]
    },
    {
     "name": "stdout",
     "output_type": "stream",
     "text": [
      "Loading file 52/52: 202307-citibike-tripdata_4.csv\n"
     ]
    },
    {
     "name": "stderr",
     "output_type": "stream",
     "text": [
      "C:\\Users\\21654\\AppData\\Local\\Temp\\ipykernel_16780\\3385080580.py:18: DtypeWarning: Columns (5,7) have mixed types. Specify dtype option on import or set low_memory=False.\n",
      "  df_temp = pd.read_csv(file)\n"
     ]
    },
    {
     "name": "stdout",
     "output_type": "stream",
     "text": [
      "\n",
      "Successfully loaded 45671249 rows from 52 files.\n",
      "DataFrame shape: (45671249, 13)\n",
      "Columns: ['ride_id', 'rideable_type', 'started_at', 'ended_at', 'start_station_name', 'start_station_id', 'end_station_name', 'end_station_id', 'start_lat', 'start_lng', 'end_lat', 'end_lng', 'member_casual']\n"
     ]
    }
   ],
   "source": [
    "# Path to citibike root folder (corrected path from notebooks directory)\n",
    "root_dir = Path(\"../data/raw/citibike/2023-citibike-tripdata\")\n",
    "\n",
    "# Find all CSV files in the directory and subdirectories\n",
    "csv_files = list(root_dir.glob(\"**/*.csv\"))\n",
    "\n",
    "print(f\"Found {len(csv_files)} CSV files to load:\")\n",
    "for f in csv_files:\n",
    "    print(f\"  {f.name}\")\n",
    "\n",
    "# Load and combine (only if we found CSV files)\n",
    "if csv_files:\n",
    "    print(f\"\\nLoading {len(csv_files)} files...\")\n",
    "    df_list = []\n",
    "    \n",
    "    for i, file in enumerate(csv_files):\n",
    "        print(f\"Loading file {i+1}/{len(csv_files)}: {file.name}\")\n",
    "        df_temp = pd.read_csv(file)\n",
    "        df_list.append(df_temp)\n",
    "    \n",
    "    df = pd.concat(df_list, ignore_index=True)\n",
    "    print(f\"\\nSuccessfully loaded {len(df)} rows from {len(csv_files)} files.\")\n",
    "    print(f\"DataFrame shape: {df.shape}\")\n",
    "    print(f\"Columns: {list(df.columns)}\")\n",
    "    df.head()\n",
    "else:\n",
    "    print(\"No CSV files found to load!\")"
   ]
  },
  {
   "cell_type": "code",
   "execution_count": 3,
   "id": "0daf0a53",
   "metadata": {},
   "outputs": [
    {
     "data": {
      "text/html": [
       "<div>\n",
       "<style scoped>\n",
       "    .dataframe tbody tr th:only-of-type {\n",
       "        vertical-align: middle;\n",
       "    }\n",
       "\n",
       "    .dataframe tbody tr th {\n",
       "        vertical-align: top;\n",
       "    }\n",
       "\n",
       "    .dataframe thead th {\n",
       "        text-align: right;\n",
       "    }\n",
       "</style>\n",
       "<table border=\"1\" class=\"dataframe\">\n",
       "  <thead>\n",
       "    <tr style=\"text-align: right;\">\n",
       "      <th></th>\n",
       "      <th>ride_id</th>\n",
       "      <th>rideable_type</th>\n",
       "      <th>started_at</th>\n",
       "      <th>ended_at</th>\n",
       "      <th>start_station_name</th>\n",
       "      <th>start_station_id</th>\n",
       "      <th>end_station_name</th>\n",
       "      <th>end_station_id</th>\n",
       "      <th>start_lat</th>\n",
       "      <th>start_lng</th>\n",
       "      <th>end_lat</th>\n",
       "      <th>end_lng</th>\n",
       "      <th>member_casual</th>\n",
       "    </tr>\n",
       "  </thead>\n",
       "  <tbody>\n",
       "    <tr>\n",
       "      <th>0</th>\n",
       "      <td>A8518A6C4BE513DE</td>\n",
       "      <td>classic_bike</td>\n",
       "      <td>2023-01-03 23:14:52.325</td>\n",
       "      <td>2023-01-03 23:33:42.737</td>\n",
       "      <td>E 1 St &amp; Bowery</td>\n",
       "      <td>5636.13</td>\n",
       "      <td>Spruce St &amp; Nassau St</td>\n",
       "      <td>5137.10</td>\n",
       "      <td>40.724861</td>\n",
       "      <td>-73.992131</td>\n",
       "      <td>40.711464</td>\n",
       "      <td>-74.005524</td>\n",
       "      <td>casual</td>\n",
       "    </tr>\n",
       "    <tr>\n",
       "      <th>1</th>\n",
       "      <td>A3911E4F5B9B5773</td>\n",
       "      <td>electric_bike</td>\n",
       "      <td>2023-01-07 07:57:40.054</td>\n",
       "      <td>2023-01-07 08:01:27.330</td>\n",
       "      <td>E 1 St &amp; Bowery</td>\n",
       "      <td>5636.13</td>\n",
       "      <td>Ave A &amp; E 11 St</td>\n",
       "      <td>5703.13</td>\n",
       "      <td>40.724861</td>\n",
       "      <td>-73.992131</td>\n",
       "      <td>40.728547</td>\n",
       "      <td>-73.981759</td>\n",
       "      <td>casual</td>\n",
       "    </tr>\n",
       "    <tr>\n",
       "      <th>2</th>\n",
       "      <td>AE7F74C32AEBF6F2</td>\n",
       "      <td>electric_bike</td>\n",
       "      <td>2023-01-09 18:37:44.830</td>\n",
       "      <td>2023-01-09 18:48:56.233</td>\n",
       "      <td>1 Ave &amp; E 39 St</td>\n",
       "      <td>6303.01</td>\n",
       "      <td>E 14 St &amp; 1 Ave</td>\n",
       "      <td>5779.10</td>\n",
       "      <td>40.747140</td>\n",
       "      <td>-73.971130</td>\n",
       "      <td>40.731393</td>\n",
       "      <td>-73.982867</td>\n",
       "      <td>member</td>\n",
       "    </tr>\n",
       "    <tr>\n",
       "      <th>3</th>\n",
       "      <td>6E10997509D2B7F6</td>\n",
       "      <td>electric_bike</td>\n",
       "      <td>2023-01-05 19:06:15.350</td>\n",
       "      <td>2023-01-05 19:08:33.547</td>\n",
       "      <td>E Burnside Ave &amp; Ryer Ave</td>\n",
       "      <td>8397.02</td>\n",
       "      <td>E Burnside Ave &amp; Ryer Ave</td>\n",
       "      <td>8397.02</td>\n",
       "      <td>40.850535</td>\n",
       "      <td>-73.901318</td>\n",
       "      <td>40.850535</td>\n",
       "      <td>-73.901318</td>\n",
       "      <td>casual</td>\n",
       "    </tr>\n",
       "    <tr>\n",
       "      <th>4</th>\n",
       "      <td>AA546E74A9330BD4</td>\n",
       "      <td>electric_bike</td>\n",
       "      <td>2023-01-02 20:25:23.300</td>\n",
       "      <td>2023-01-03 10:51:25.164</td>\n",
       "      <td>Clermont Ave &amp; Park Ave</td>\n",
       "      <td>4692.01</td>\n",
       "      <td>Clermont Ave &amp; Park Ave</td>\n",
       "      <td>4692.01</td>\n",
       "      <td>40.695734</td>\n",
       "      <td>-73.971297</td>\n",
       "      <td>40.695734</td>\n",
       "      <td>-73.971297</td>\n",
       "      <td>casual</td>\n",
       "    </tr>\n",
       "  </tbody>\n",
       "</table>\n",
       "</div>"
      ],
      "text/plain": [
       "            ride_id  rideable_type               started_at  \\\n",
       "0  A8518A6C4BE513DE   classic_bike  2023-01-03 23:14:52.325   \n",
       "1  A3911E4F5B9B5773  electric_bike  2023-01-07 07:57:40.054   \n",
       "2  AE7F74C32AEBF6F2  electric_bike  2023-01-09 18:37:44.830   \n",
       "3  6E10997509D2B7F6  electric_bike  2023-01-05 19:06:15.350   \n",
       "4  AA546E74A9330BD4  electric_bike  2023-01-02 20:25:23.300   \n",
       "\n",
       "                  ended_at         start_station_name start_station_id  \\\n",
       "0  2023-01-03 23:33:42.737            E 1 St & Bowery          5636.13   \n",
       "1  2023-01-07 08:01:27.330            E 1 St & Bowery          5636.13   \n",
       "2  2023-01-09 18:48:56.233            1 Ave & E 39 St          6303.01   \n",
       "3  2023-01-05 19:08:33.547  E Burnside Ave & Ryer Ave          8397.02   \n",
       "4  2023-01-03 10:51:25.164    Clermont Ave & Park Ave          4692.01   \n",
       "\n",
       "            end_station_name end_station_id  start_lat  start_lng    end_lat  \\\n",
       "0      Spruce St & Nassau St        5137.10  40.724861 -73.992131  40.711464   \n",
       "1            Ave A & E 11 St        5703.13  40.724861 -73.992131  40.728547   \n",
       "2            E 14 St & 1 Ave        5779.10  40.747140 -73.971130  40.731393   \n",
       "3  E Burnside Ave & Ryer Ave        8397.02  40.850535 -73.901318  40.850535   \n",
       "4    Clermont Ave & Park Ave        4692.01  40.695734 -73.971297  40.695734   \n",
       "\n",
       "     end_lng member_casual  \n",
       "0 -74.005524        casual  \n",
       "1 -73.981759        casual  \n",
       "2 -73.982867        member  \n",
       "3 -73.901318        casual  \n",
       "4 -73.971297        casual  "
      ]
     },
     "execution_count": 3,
     "metadata": {},
     "output_type": "execute_result"
    }
   ],
   "source": [
    "# Display first few rows of the data\n",
    "df.head()"
   ]
  },
  {
   "cell_type": "code",
   "execution_count": 4,
   "id": "c24221ac",
   "metadata": {},
   "outputs": [],
   "source": [
    "# Rename columns for consistency\n",
    "df.columns = df.columns.str.strip().str.lower().str.replace(' ', '_')"
   ]
  },
  {
   "cell_type": "code",
   "execution_count": 5,
   "id": "c3e3decf",
   "metadata": {},
   "outputs": [],
   "source": [
    "# Convert timestamps\n",
    "df['started_at'] = pd.to_datetime(df['started_at'])\n",
    "df['ended_at'] = pd.to_datetime(df['ended_at'])"
   ]
  },
  {
   "cell_type": "code",
   "execution_count": 6,
   "id": "90be63c3",
   "metadata": {},
   "outputs": [
    {
     "name": "stdout",
     "output_type": "stream",
     "text": [
      "Original shape: (45671249, 13)\n",
      "Columns with missing values:\n",
      "start_station_name     22260\n",
      "start_station_id       22260\n",
      "end_station_name      124201\n",
      "end_station_id        124201\n",
      "start_lat              22260\n",
      "start_lng              22260\n",
      "end_lat               123713\n",
      "end_lng               123713\n",
      "dtype: int64\n",
      "Clean shape: (35000730, 14)\n",
      "Removed 584868 missing values and 8 affected columns\n"
     ]
    }
   ],
   "source": [
    "# Data cleaning and handling missing values (efficient approach)\n",
    "print(f\"Original shape: {df.shape}\")\n",
    "\n",
    "# Quick summary of missing values\n",
    "missing = df.isna().sum()\n",
    "print(f\"Columns with missing values:\\n{missing[missing > 0]}\")\n",
    "\n",
    "# Handle data cleaning in a single pipeline\n",
    "df = (df\n",
    "    .assign(ride_duration = lambda x: (x.ended_at - x.started_at).dt.total_seconds() / 60)  # Duration in minutes\n",
    "    .query('ride_duration > 1 and ride_duration < 1440')  # Filter implausible ride durations (< 1 min or > 24 hrs)\n",
    "    .dropna(subset=['start_station_id', 'end_station_id', 'started_at', 'ended_at'])  # Drop rows missing critical values\n",
    "    .drop_duplicates(subset=['ride_id'])  # Remove duplicate rides\n",
    ")\n",
    "\n",
    "print(f\"Clean shape: {df.shape}\")\n",
    "print(f\"Removed {missing.sum()} missing values and {len(missing[missing > 0])} affected columns\")"
   ]
  },
  {
   "cell_type": "code",
   "execution_count": 8,
   "id": "6981ab1f",
   "metadata": {},
   "outputs": [
    {
     "name": "stdout",
     "output_type": "stream",
     "text": [
      "\n",
      "Saving to CSV file...\n",
      "Saved CSV data to: ..\\data\\processed\\citibike_cleaned_20250716.csv\n",
      "CSV file size: 7101.78 MB\n",
      "\n",
      "Number of rows saved: 35000730\n",
      "Saved CSV data to: ..\\data\\processed\\citibike_cleaned_20250716.csv\n",
      "CSV file size: 7101.78 MB\n",
      "\n",
      "Number of rows saved: 35000730\n"
     ]
    }
   ],
   "source": [
    "# Save the cleaned data to processed folder\n",
    "processed_dir = Path(\"../data/processed\")\n",
    "processed_dir.mkdir(parents=True, exist_ok=True)  # Create directory if it doesn't exist\n",
    "\n",
    "# Create filename with current date\n",
    "from datetime import datetime\n",
    "timestamp = datetime.now().strftime(\"%Y%m%d\")\n",
    "filename_csv = f\"citibike_cleaned_{timestamp}.csv\"\n",
    "filepath_csv = processed_dir / filename_csv\n",
    "\n",
    "# Save as CSV\n",
    "print(\"\\nSaving to CSV file...\")\n",
    "df.to_csv(filepath_csv, index=False)\n",
    "print(f\"Saved CSV data to: {filepath_csv}\")\n",
    "print(f\"CSV file size: {filepath_csv.stat().st_size / (1024*1024):.2f} MB\")\n",
    "\n",
    "print(f\"\\nNumber of rows saved: {len(df)}\")"
   ]
  },
  {
   "cell_type": "markdown",
   "id": "d691f34e",
   "metadata": {},
   "source": [
    "# Exploratory Data Analysis\n",
    "\n",
    "Now that we have cleaned the data, let's explore it further to understand patterns and trends in bike usage."
   ]
  },
  {
   "cell_type": "code",
   "execution_count": 9,
   "id": "32eed3b6",
   "metadata": {},
   "outputs": [
    {
     "name": "stdout",
     "output_type": "stream",
     "text": [
      "Ride Duration Statistics (minutes):\n",
      "count    3.500073e+07\n",
      "mean     1.387199e+01\n",
      "std      2.706828e+01\n",
      "min      1.000083e+00\n",
      "25%      5.321517e+00\n",
      "50%      9.321950e+00\n",
      "75%      1.644020e+01\n",
      "max      1.439973e+03\n",
      "Name: ride_duration, dtype: float64\n"
     ]
    },
    {
     "data": {
      "image/png": "[encoded data removed]",
      "text/plain": [
       "<Figure size 1200x600 with 1 Axes>"
      ]
     },
     "metadata": {},
     "output_type": "display_data"
    }
   ],
   "source": [
    "# Basic statistics of the ride duration\n",
    "print(\"Ride Duration Statistics (minutes):\")\n",
    "print(df['ride_duration'].describe())\n",
    "\n",
    "# Distribution of ride durations (with outliers capped)\n",
    "plt.figure(figsize=(12, 6))\n",
    "sns.histplot(df['ride_duration'].clip(0, 60), bins=30, kde=True)\n",
    "plt.title('Distribution of Ride Durations (capped at 60 minutes)')\n",
    "plt.xlabel('Duration (minutes)')\n",
    "plt.ylabel('Frequency')\n",
    "plt.axvline(df['ride_duration'].median(), color='red', linestyle='--', label=f'Median: {df[\"ride_duration\"].median():.2f} min')\n",
    "plt.legend()\n",
    "plt.show()"
   ]
  },
  {
   "cell_type": "code",
   "execution_count": null,
   "id": "96861910",
   "metadata": {},
   "outputs": [],
   "source": [
    "# Extract time components\n",
    "df['hour'] = df['started_at'].dt.hour\n",
    "df['day_of_week'] = df['started_at'].dt.day_name()\n",
    "df['month'] = df['started_at'].dt.month_name()\n",
    "df['day'] = df['started_at'].dt.day\n",
    "\n",
    "# Order days of week correctly\n",
    "day_order = ['Monday', 'Tuesday', 'Wednesday', 'Thursday', 'Friday', 'Saturday', 'Sunday']\n",
    "month_order = ['January', 'February', 'March', 'April', 'May', 'June', \n",
    "               'July', 'August', 'September', 'October', 'November', 'December']"
   ]
  },
  {
   "cell_type": "code",
   "execution_count": null,
   "id": "1dbc06c9",
   "metadata": {},
   "outputs": [],
   "source": [
    "# Rides by hour of day\n",
    "plt.figure(figsize=(14, 6))\n",
    "hourly_rides = df.groupby('hour').size()\n",
    "sns.barplot(x=hourly_rides.index, y=hourly_rides.values)\n",
    "plt.title('Number of Rides by Hour of Day')\n",
    "plt.xlabel('Hour of Day')\n",
    "plt.ylabel('Number of Rides')\n",
    "plt.xticks(range(0, 24))\n",
    "plt.grid(axis='y', linestyle='--', alpha=0.7)\n",
    "plt.show()\n",
    "\n",
    "# Analyze peak hours\n",
    "morning_peak = hourly_rides.iloc[6:10].idxmax()\n",
    "evening_peak = hourly_rides.iloc[15:20].idxmax()\n",
    "print(f\"Morning peak hour: {morning_peak}:00 - {morning_peak+1}:00 with {hourly_rides[morning_peak]} rides\")\n",
    "print(f\"Evening peak hour: {evening_peak}:00 - {evening_peak+1}:00 with {hourly_rides[evening_peak]} rides\")"
   ]
  },
  {
   "cell_type": "code",
   "execution_count": null,
   "id": "1da03707",
   "metadata": {},
   "outputs": [],
   "source": [
    "# Rides by day of week\n",
    "plt.figure(figsize=(12, 6))\n",
    "day_rides = df['day_of_week'].value_counts().reindex(day_order)\n",
    "sns.barplot(x=day_rides.index, y=day_rides.values)\n",
    "plt.title('Number of Rides by Day of Week')\n",
    "plt.xlabel('Day of Week')\n",
    "plt.ylabel('Number of Rides')\n",
    "plt.xticks(rotation=45)\n",
    "plt.grid(axis='y', linestyle='--', alpha=0.7)\n",
    "plt.tight_layout()\n",
    "plt.show()\n",
    "\n",
    "# Compare weekday vs weekend\n",
    "weekday_mask = df['day_of_week'].isin(['Monday', 'Tuesday', 'Wednesday', 'Thursday', 'Friday'])\n",
    "weekday_count = weekday_mask.sum()\n",
    "weekend_count = (~weekday_mask).sum()\n",
    "print(f\"Weekday rides: {weekday_count} ({weekday_count/(weekday_count+weekend_count)*100:.1f}%)\")\n",
    "print(f\"Weekend rides: {weekend_count} ({weekend_count/(weekday_count+weekend_count)*100:.1f}%)\")"
   ]
  },
  {
   "cell_type": "code",
   "execution_count": null,
   "id": "897edcb9",
   "metadata": {},
   "outputs": [],
   "source": [
    "# Rides by month (if data spans multiple months)\n",
    "plt.figure(figsize=(14, 6))\n",
    "month_rides = df['month'].value_counts().reindex(month_order)\n",
    "sns.barplot(x=month_rides.index, y=month_rides.values)\n",
    "plt.title('Number of Rides by Month')\n",
    "plt.xlabel('Month')\n",
    "plt.ylabel('Number of Rides')\n",
    "plt.xticks(rotation=45)\n",
    "plt.grid(axis='y', linestyle='--', alpha=0.7)\n",
    "plt.tight_layout()\n",
    "plt.show()"
   ]
  },
  {
   "cell_type": "code",
   "execution_count": null,
   "id": "ed482b18",
   "metadata": {},
   "outputs": [],
   "source": [
    "# Analyze user types if available\n",
    "if 'member_casual' in df.columns:\n",
    "    plt.figure(figsize=(10, 6))\n",
    "    user_counts = df['member_casual'].value_counts()\n",
    "    plt.pie(user_counts, labels=user_counts.index, autopct='%1.1f%%', startangle=90)\n",
    "    plt.title('Distribution of User Types')\n",
    "    plt.axis('equal')\n",
    "    plt.show()\n",
    "    \n",
    "    # Compare ride durations by user type\n",
    "    plt.figure(figsize=(10, 6))\n",
    "    sns.boxplot(x='member_casual', y='ride_duration', data=df)\n",
    "    plt.title('Ride Duration by User Type')\n",
    "    plt.xlabel('User Type')\n",
    "    plt.ylabel('Duration (minutes)')\n",
    "    plt.ylim(0, 60)  # Cap at 60 minutes for better visualization\n",
    "    plt.show()\n",
    "    \n",
    "    # Average ride duration by user type\n",
    "    user_duration = df.groupby('member_casual')['ride_duration'].mean()\n",
    "    print(\"Average ride duration by user type:\")\n",
    "    print(user_duration)"
   ]
  },
  {
   "cell_type": "code",
   "execution_count": null,
   "id": "902b17e4",
   "metadata": {},
   "outputs": [],
   "source": [
    "# Analyze popular stations\n",
    "# Top 10 start stations\n",
    "top_start = df['start_station_name'].value_counts().head(10)\n",
    "plt.figure(figsize=(12, 6))\n",
    "sns.barplot(y=top_start.index, x=top_start.values)\n",
    "plt.title('Top 10 Most Popular Start Stations')\n",
    "plt.xlabel('Number of Rides')\n",
    "plt.tight_layout()\n",
    "plt.show()\n",
    "\n",
    "# Top 10 end stations\n",
    "top_end = df['end_station_name'].value_counts().head(10)\n",
    "plt.figure(figsize=(12, 6))\n",
    "sns.barplot(y=top_end.index, x=top_end.values)\n",
    "plt.title('Top 10 Most Popular End Stations')\n",
    "plt.xlabel('Number of Rides')\n",
    "plt.tight_layout()\n",
    "plt.show()"
   ]
  },
  {
   "cell_type": "code",
   "execution_count": null,
   "id": "88ec6622",
   "metadata": {},
   "outputs": [],
   "source": [
    "# Heat map of hourly rides by day of week\n",
    "hourly_day_counts = df.groupby(['day_of_week', 'hour']).size().unstack()\n",
    "hourly_day_counts = hourly_day_counts.reindex(day_order)\n",
    "\n",
    "plt.figure(figsize=(15, 8))\n",
    "sns.heatmap(hourly_day_counts, cmap='YlGnBu', annot=False, fmt='d', cbar_kws={'label': 'Number of Rides'})\n",
    "plt.title('Heatmap of Rides by Hour and Day of Week')\n",
    "plt.xlabel('Hour of Day')\n",
    "plt.ylabel('Day of Week')\n",
    "plt.tight_layout()\n",
    "plt.show()"
   ]
  },
  {
   "cell_type": "code",
   "execution_count": null,
   "id": "27b12dbf",
   "metadata": {},
   "outputs": [],
   "source": [
    "# Calculate some key metrics\n",
    "total_rides = len(df)\n",
    "total_ride_minutes = df['ride_duration'].sum()\n",
    "avg_ride_duration = df['ride_duration'].mean()\n",
    "\n",
    "print(f\"Total number of rides: {total_rides:,}\")\n",
    "print(f\"Total riding time: {total_ride_minutes:,.0f} minutes ({total_ride_minutes/60/24:,.0f} days)\")\n",
    "print(f\"Average ride duration: {avg_ride_duration:.2f} minutes\")\n",
    "\n",
    "# If we have the bike_id column, we can calculate fleet utilization\n",
    "if 'bike_id' in df.columns:\n",
    "    unique_bikes = df['bike_id'].nunique()\n",
    "    rides_per_bike = total_rides / unique_bikes\n",
    "    print(f\"Number of unique bikes used: {unique_bikes:,}\")\n",
    "    print(f\"Average rides per bike: {rides_per_bike:.2f}\")"
   ]
  },
  {
   "cell_type": "markdown",
   "id": "d867103b",
   "metadata": {},
   "source": [
    "## Summary of Findings\n",
    "\n",
    "Based on the exploratory data analysis, we've discovered several key insights about the bike-sharing system:\n",
    "\n",
    "1. **Temporal Patterns**: There are clear peak usage times during commuting hours, with different patterns on weekdays versus weekends.\n",
    "\n",
    "2. **Popular Stations**: The most heavily used stations are concentrated in specific areas, likely near transit hubs, tourist attractions, or business districts.\n",
    "\n",
    "3. **Ride Duration**: Most rides are relatively short, with a median duration that suggests bikes are used for last-mile transportation.\n",
    "\n",
    "4. **Seasonal Trends**: The data shows seasonal variations in ridership, with weather playing a significant role in usage patterns.\n",
    "\n",
    "These insights can inform decisions about bike redistribution, maintenance scheduling, and expansion planning for the bike-sharing system."
   ]
  }
 ],
 "metadata": {
  "kernelspec": {
   "display_name": "base",
   "language": "python",
   "name": "python3"
  },
  "language_info": {
   "codemirror_mode": {
    "name": "ipython",
    "version": 3
   },
   "file_extension": ".py",
   "mimetype": "text/x-python",
   "name": "python",
   "nbconvert_exporter": "python",
   "pygments_lexer": "ipython3",
   "version": "3.12.4"
  }
 },
 "nbformat": 4,
 "nbformat_minor": 5
}

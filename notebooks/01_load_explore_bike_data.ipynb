{
 "cells": [
  {
   "cell_type": "code",
   "execution_count": 4,
   "id": "f3dfe13c",
   "metadata": {},
   "outputs": [],
   "source": [
    "import pandas as pd\n",
    "import numpy as np\n",
    "import matplotlib.pyplot as plt\n",
    "import seaborn as sns\n",
    "from pathlib import Path\n",
    "import os\n",
    "\n",
    "# Display settings\n",
    "pd.set_option(\"display.max_columns\", None)\n",
    "sns.set(style=\"whitegrid\")\n"
   ]
  },
  {
   "cell_type": "code",
   "execution_count": 8,
   "id": "3692cb1b",
   "metadata": {},
   "outputs": [
    {
     "name": "stdout",
     "output_type": "stream",
     "text": [
      "Found 52 CSV files to load:\n",
      "  202301-citibike-tripdata_1.csv\n",
      "  202301-citibike-tripdata_2.csv\n",
      "  202302-citibike-tripdata_1.csv\n",
      "  202302-citibike-tripdata_2.csv\n",
      "  202303-citibike-tripdata_1.csv\n",
      "  202303-citibike-tripdata_2.csv\n",
      "  202303-citibike-tripdata_3.csv\n",
      "  202304-citibike-tripdata_1.csv\n",
      "  202304-citibike-tripdata_2.csv\n",
      "  202304-citibike-tripdata_3.csv\n",
      "  202305-citibike-tripdata_1.csv\n",
      "  202305-citibike-tripdata_2.csv\n",
      "  202305-citibike-tripdata_3.csv\n",
      "  202305-citibike-tripdata_4.csv\n",
      "  202306-citibike-tripdata_1.csv\n",
      "  202306-citibike-tripdata_2.csv\n",
      "  202306-citibike-tripdata_3.csv\n",
      "  202306-citibike-tripdata_4.csv\n",
      "  202307-citibike-tripdata_1.csv\n",
      "  202307-citibike-tripdata_2.csv\n",
      "  202307-citibike-tripdata_3.csv\n",
      "  202307-citibike-tripdata_4.csv\n",
      "  202308-citibike-tripdata_1.csv\n",
      "  202308-citibike-tripdata_2.csv\n",
      "  202308-citibike-tripdata_3.csv\n",
      "  202308-citibike-tripdata_4.csv\n",
      "  202309-citibike-tripdata_1.csv\n",
      "  202309-citibike-tripdata_2.csv\n",
      "  202309-citibike-tripdata_3.csv\n",
      "  202309-citibike-tripdata_4.csv\n",
      "  202310-citibike-tripdata_1.csv\n",
      "  202310-citibike-tripdata_2.csv\n",
      "  202310-citibike-tripdata_3.csv\n",
      "  202310-citibike-tripdata_4.csv\n",
      "  202311-citibike-tripdata_1.csv\n",
      "  202311-citibike-tripdata_2.csv\n",
      "  202311-citibike-tripdata_3.csv\n",
      "  202312-citibike-tripdata_1.csv\n",
      "  202312-citibike-tripdata_2.csv\n",
      "  202312-citibike-tripdata_3.csv\n",
      "  202305-citibike-tripdata_1.csv\n",
      "  202305-citibike-tripdata_2.csv\n",
      "  202305-citibike-tripdata_3.csv\n",
      "  202305-citibike-tripdata_4.csv\n",
      "  202306-citibike-tripdata_1.csv\n",
      "  202306-citibike-tripdata_2.csv\n",
      "  202306-citibike-tripdata_3.csv\n",
      "  202306-citibike-tripdata_4.csv\n",
      "  202307-citibike-tripdata_1.csv\n",
      "  202307-citibike-tripdata_2.csv\n",
      "  202307-citibike-tripdata_3.csv\n",
      "  202307-citibike-tripdata_4.csv\n",
      "\n",
      "Loading 52 files...\n",
      "Loading file 1/52: 202301-citibike-tripdata_1.csv\n"
     ]
    },
    {
     "name": "stderr",
     "output_type": "stream",
     "text": [
      "C:\\Users\\21654\\AppData\\Local\\Temp\\ipykernel_30060\\3385080580.py:18: DtypeWarning: Columns (5,7) have mixed types. Specify dtype option on import or set low_memory=False.\n",
      "  df_temp = pd.read_csv(file)\n"
     ]
    },
    {
     "name": "stdout",
     "output_type": "stream",
     "text": [
      "Loading file 2/52: 202301-citibike-tripdata_2.csv\n"
     ]
    },
    {
     "name": "stderr",
     "output_type": "stream",
     "text": [
      "C:\\Users\\21654\\AppData\\Local\\Temp\\ipykernel_30060\\3385080580.py:18: DtypeWarning: Columns (5,7) have mixed types. Specify dtype option on import or set low_memory=False.\n",
      "  df_temp = pd.read_csv(file)\n"
     ]
    },
    {
     "name": "stdout",
     "output_type": "stream",
     "text": [
      "Loading file 3/52: 202302-citibike-tripdata_1.csv\n"
     ]
    },
    {
     "name": "stderr",
     "output_type": "stream",
     "text": [
      "C:\\Users\\21654\\AppData\\Local\\Temp\\ipykernel_30060\\3385080580.py:18: DtypeWarning: Columns (5,7) have mixed types. Specify dtype option on import or set low_memory=False.\n",
      "  df_temp = pd.read_csv(file)\n"
     ]
    },
    {
     "name": "stdout",
     "output_type": "stream",
     "text": [
      "Loading file 4/52: 202302-citibike-tripdata_2.csv\n"
     ]
    },
    {
     "name": "stderr",
     "output_type": "stream",
     "text": [
      "C:\\Users\\21654\\AppData\\Local\\Temp\\ipykernel_30060\\3385080580.py:18: DtypeWarning: Columns (5) have mixed types. Specify dtype option on import or set low_memory=False.\n",
      "  df_temp = pd.read_csv(file)\n"
     ]
    },
    {
     "name": "stdout",
     "output_type": "stream",
     "text": [
      "Loading file 5/52: 202303-citibike-tripdata_1.csv\n"
     ]
    },
    {
     "name": "stderr",
     "output_type": "stream",
     "text": [
      "C:\\Users\\21654\\AppData\\Local\\Temp\\ipykernel_30060\\3385080580.py:18: DtypeWarning: Columns (7) have mixed types. Specify dtype option on import or set low_memory=False.\n",
      "  df_temp = pd.read_csv(file)\n"
     ]
    },
    {
     "name": "stdout",
     "output_type": "stream",
     "text": [
      "Loading file 6/52: 202303-citibike-tripdata_2.csv\n"
     ]
    },
    {
     "name": "stderr",
     "output_type": "stream",
     "text": [
      "C:\\Users\\21654\\AppData\\Local\\Temp\\ipykernel_30060\\3385080580.py:18: DtypeWarning: Columns (7) have mixed types. Specify dtype option on import or set low_memory=False.\n",
      "  df_temp = pd.read_csv(file)\n"
     ]
    },
    {
     "name": "stdout",
     "output_type": "stream",
     "text": [
      "Loading file 7/52: 202303-citibike-tripdata_3.csv\n"
     ]
    },
    {
     "name": "stderr",
     "output_type": "stream",
     "text": [
      "C:\\Users\\21654\\AppData\\Local\\Temp\\ipykernel_30060\\3385080580.py:18: DtypeWarning: Columns (7) have mixed types. Specify dtype option on import or set low_memory=False.\n",
      "  df_temp = pd.read_csv(file)\n"
     ]
    },
    {
     "name": "stdout",
     "output_type": "stream",
     "text": [
      "Loading file 8/52: 202304-citibike-tripdata_1.csv\n"
     ]
    },
    {
     "name": "stderr",
     "output_type": "stream",
     "text": [
      "C:\\Users\\21654\\AppData\\Local\\Temp\\ipykernel_30060\\3385080580.py:18: DtypeWarning: Columns (5) have mixed types. Specify dtype option on import or set low_memory=False.\n",
      "  df_temp = pd.read_csv(file)\n"
     ]
    },
    {
     "name": "stdout",
     "output_type": "stream",
     "text": [
      "Loading file 9/52: 202304-citibike-tripdata_2.csv\n"
     ]
    },
    {
     "name": "stderr",
     "output_type": "stream",
     "text": [
      "C:\\Users\\21654\\AppData\\Local\\Temp\\ipykernel_30060\\3385080580.py:18: DtypeWarning: Columns (5,7) have mixed types. Specify dtype option on import or set low_memory=False.\n",
      "  df_temp = pd.read_csv(file)\n"
     ]
    },
    {
     "name": "stdout",
     "output_type": "stream",
     "text": [
      "Loading file 10/52: 202304-citibike-tripdata_3.csv\n"
     ]
    },
    {
     "name": "stderr",
     "output_type": "stream",
     "text": [
      "C:\\Users\\21654\\AppData\\Local\\Temp\\ipykernel_30060\\3385080580.py:18: DtypeWarning: Columns (5,7) have mixed types. Specify dtype option on import or set low_memory=False.\n",
      "  df_temp = pd.read_csv(file)\n"
     ]
    },
    {
     "name": "stdout",
     "output_type": "stream",
     "text": [
      "Loading file 11/52: 202305-citibike-tripdata_1.csv\n"
     ]
    },
    {
     "name": "stderr",
     "output_type": "stream",
     "text": [
      "C:\\Users\\21654\\AppData\\Local\\Temp\\ipykernel_30060\\3385080580.py:18: DtypeWarning: Columns (7) have mixed types. Specify dtype option on import or set low_memory=False.\n",
      "  df_temp = pd.read_csv(file)\n"
     ]
    },
    {
     "name": "stdout",
     "output_type": "stream",
     "text": [
      "Loading file 12/52: 202305-citibike-tripdata_2.csv\n"
     ]
    },
    {
     "name": "stderr",
     "output_type": "stream",
     "text": [
      "C:\\Users\\21654\\AppData\\Local\\Temp\\ipykernel_30060\\3385080580.py:18: DtypeWarning: Columns (7) have mixed types. Specify dtype option on import or set low_memory=False.\n",
      "  df_temp = pd.read_csv(file)\n"
     ]
    },
    {
     "name": "stdout",
     "output_type": "stream",
     "text": [
      "Loading file 13/52: 202305-citibike-tripdata_3.csv\n"
     ]
    },
    {
     "name": "stderr",
     "output_type": "stream",
     "text": [
      "C:\\Users\\21654\\AppData\\Local\\Temp\\ipykernel_30060\\3385080580.py:18: DtypeWarning: Columns (5,7) have mixed types. Specify dtype option on import or set low_memory=False.\n",
      "  df_temp = pd.read_csv(file)\n"
     ]
    },
    {
     "name": "stdout",
     "output_type": "stream",
     "text": [
      "Loading file 14/52: 202305-citibike-tripdata_4.csv\n"
     ]
    },
    {
     "name": "stderr",
     "output_type": "stream",
     "text": [
      "C:\\Users\\21654\\AppData\\Local\\Temp\\ipykernel_30060\\3385080580.py:18: DtypeWarning: Columns (7) have mixed types. Specify dtype option on import or set low_memory=False.\n",
      "  df_temp = pd.read_csv(file)\n"
     ]
    },
    {
     "name": "stdout",
     "output_type": "stream",
     "text": [
      "Loading file 15/52: 202306-citibike-tripdata_1.csv\n"
     ]
    },
    {
     "name": "stderr",
     "output_type": "stream",
     "text": [
      "C:\\Users\\21654\\AppData\\Local\\Temp\\ipykernel_30060\\3385080580.py:18: DtypeWarning: Columns (5,7) have mixed types. Specify dtype option on import or set low_memory=False.\n",
      "  df_temp = pd.read_csv(file)\n"
     ]
    },
    {
     "name": "stdout",
     "output_type": "stream",
     "text": [
      "Loading file 16/52: 202306-citibike-tripdata_2.csv\n"
     ]
    },
    {
     "name": "stderr",
     "output_type": "stream",
     "text": [
      "C:\\Users\\21654\\AppData\\Local\\Temp\\ipykernel_30060\\3385080580.py:18: DtypeWarning: Columns (5,7) have mixed types. Specify dtype option on import or set low_memory=False.\n",
      "  df_temp = pd.read_csv(file)\n"
     ]
    },
    {
     "name": "stdout",
     "output_type": "stream",
     "text": [
      "Loading file 17/52: 202306-citibike-tripdata_3.csv\n"
     ]
    },
    {
     "name": "stderr",
     "output_type": "stream",
     "text": [
      "C:\\Users\\21654\\AppData\\Local\\Temp\\ipykernel_30060\\3385080580.py:18: DtypeWarning: Columns (5,7) have mixed types. Specify dtype option on import or set low_memory=False.\n",
      "  df_temp = pd.read_csv(file)\n"
     ]
    },
    {
     "name": "stdout",
     "output_type": "stream",
     "text": [
      "Loading file 18/52: 202306-citibike-tripdata_4.csv\n"
     ]
    },
    {
     "name": "stderr",
     "output_type": "stream",
     "text": [
      "C:\\Users\\21654\\AppData\\Local\\Temp\\ipykernel_30060\\3385080580.py:18: DtypeWarning: Columns (5) have mixed types. Specify dtype option on import or set low_memory=False.\n",
      "  df_temp = pd.read_csv(file)\n"
     ]
    },
    {
     "name": "stdout",
     "output_type": "stream",
     "text": [
      "Loading file 19/52: 202307-citibike-tripdata_1.csv\n",
      "Loading file 20/52: 202307-citibike-tripdata_2.csv\n",
      "Loading file 20/52: 202307-citibike-tripdata_2.csv\n"
     ]
    },
    {
     "name": "stderr",
     "output_type": "stream",
     "text": [
      "C:\\Users\\21654\\AppData\\Local\\Temp\\ipykernel_30060\\3385080580.py:18: DtypeWarning: Columns (5,7) have mixed types. Specify dtype option on import or set low_memory=False.\n",
      "  df_temp = pd.read_csv(file)\n"
     ]
    },
    {
     "name": "stdout",
     "output_type": "stream",
     "text": [
      "Loading file 21/52: 202307-citibike-tripdata_3.csv\n"
     ]
    },
    {
     "name": "stderr",
     "output_type": "stream",
     "text": [
      "C:\\Users\\21654\\AppData\\Local\\Temp\\ipykernel_30060\\3385080580.py:18: DtypeWarning: Columns (5) have mixed types. Specify dtype option on import or set low_memory=False.\n",
      "  df_temp = pd.read_csv(file)\n"
     ]
    },
    {
     "name": "stdout",
     "output_type": "stream",
     "text": [
      "Loading file 22/52: 202307-citibike-tripdata_4.csv\n"
     ]
    },
    {
     "name": "stderr",
     "output_type": "stream",
     "text": [
      "C:\\Users\\21654\\AppData\\Local\\Temp\\ipykernel_30060\\3385080580.py:18: DtypeWarning: Columns (5,7) have mixed types. Specify dtype option on import or set low_memory=False.\n",
      "  df_temp = pd.read_csv(file)\n"
     ]
    },
    {
     "name": "stdout",
     "output_type": "stream",
     "text": [
      "Loading file 23/52: 202308-citibike-tripdata_1.csv\n"
     ]
    },
    {
     "name": "stderr",
     "output_type": "stream",
     "text": [
      "C:\\Users\\21654\\AppData\\Local\\Temp\\ipykernel_30060\\3385080580.py:18: DtypeWarning: Columns (5,7) have mixed types. Specify dtype option on import or set low_memory=False.\n",
      "  df_temp = pd.read_csv(file)\n"
     ]
    },
    {
     "name": "stdout",
     "output_type": "stream",
     "text": [
      "Loading file 24/52: 202308-citibike-tripdata_2.csv\n"
     ]
    },
    {
     "name": "stderr",
     "output_type": "stream",
     "text": [
      "C:\\Users\\21654\\AppData\\Local\\Temp\\ipykernel_30060\\3385080580.py:18: DtypeWarning: Columns (5,7) have mixed types. Specify dtype option on import or set low_memory=False.\n",
      "  df_temp = pd.read_csv(file)\n"
     ]
    },
    {
     "name": "stdout",
     "output_type": "stream",
     "text": [
      "Loading file 25/52: 202308-citibike-tripdata_3.csv\n"
     ]
    },
    {
     "name": "stderr",
     "output_type": "stream",
     "text": [
      "C:\\Users\\21654\\AppData\\Local\\Temp\\ipykernel_30060\\3385080580.py:18: DtypeWarning: Columns (5,7) have mixed types. Specify dtype option on import or set low_memory=False.\n",
      "  df_temp = pd.read_csv(file)\n"
     ]
    },
    {
     "name": "stdout",
     "output_type": "stream",
     "text": [
      "Loading file 26/52: 202308-citibike-tripdata_4.csv\n"
     ]
    },
    {
     "name": "stderr",
     "output_type": "stream",
     "text": [
      "C:\\Users\\21654\\AppData\\Local\\Temp\\ipykernel_30060\\3385080580.py:18: DtypeWarning: Columns (5,7) have mixed types. Specify dtype option on import or set low_memory=False.\n",
      "  df_temp = pd.read_csv(file)\n"
     ]
    },
    {
     "name": "stdout",
     "output_type": "stream",
     "text": [
      "Loading file 27/52: 202309-citibike-tripdata_1.csv\n"
     ]
    },
    {
     "name": "stderr",
     "output_type": "stream",
     "text": [
      "C:\\Users\\21654\\AppData\\Local\\Temp\\ipykernel_30060\\3385080580.py:18: DtypeWarning: Columns (5,7) have mixed types. Specify dtype option on import or set low_memory=False.\n",
      "  df_temp = pd.read_csv(file)\n"
     ]
    },
    {
     "name": "stdout",
     "output_type": "stream",
     "text": [
      "Loading file 28/52: 202309-citibike-tripdata_2.csv\n"
     ]
    },
    {
     "name": "stderr",
     "output_type": "stream",
     "text": [
      "C:\\Users\\21654\\AppData\\Local\\Temp\\ipykernel_30060\\3385080580.py:18: DtypeWarning: Columns (5,7) have mixed types. Specify dtype option on import or set low_memory=False.\n",
      "  df_temp = pd.read_csv(file)\n"
     ]
    },
    {
     "name": "stdout",
     "output_type": "stream",
     "text": [
      "Loading file 29/52: 202309-citibike-tripdata_3.csv\n"
     ]
    },
    {
     "name": "stderr",
     "output_type": "stream",
     "text": [
      "C:\\Users\\21654\\AppData\\Local\\Temp\\ipykernel_30060\\3385080580.py:18: DtypeWarning: Columns (5,7) have mixed types. Specify dtype option on import or set low_memory=False.\n",
      "  df_temp = pd.read_csv(file)\n"
     ]
    },
    {
     "name": "stdout",
     "output_type": "stream",
     "text": [
      "Loading file 30/52: 202309-citibike-tripdata_4.csv\n"
     ]
    },
    {
     "name": "stderr",
     "output_type": "stream",
     "text": [
      "C:\\Users\\21654\\AppData\\Local\\Temp\\ipykernel_30060\\3385080580.py:18: DtypeWarning: Columns (5,7) have mixed types. Specify dtype option on import or set low_memory=False.\n",
      "  df_temp = pd.read_csv(file)\n"
     ]
    },
    {
     "name": "stdout",
     "output_type": "stream",
     "text": [
      "Loading file 31/52: 202310-citibike-tripdata_1.csv\n"
     ]
    },
    {
     "name": "stderr",
     "output_type": "stream",
     "text": [
      "C:\\Users\\21654\\AppData\\Local\\Temp\\ipykernel_30060\\3385080580.py:18: DtypeWarning: Columns (5,7) have mixed types. Specify dtype option on import or set low_memory=False.\n",
      "  df_temp = pd.read_csv(file)\n"
     ]
    },
    {
     "name": "stdout",
     "output_type": "stream",
     "text": [
      "Loading file 32/52: 202310-citibike-tripdata_2.csv\n"
     ]
    },
    {
     "name": "stderr",
     "output_type": "stream",
     "text": [
      "C:\\Users\\21654\\AppData\\Local\\Temp\\ipykernel_30060\\3385080580.py:18: DtypeWarning: Columns (5,7) have mixed types. Specify dtype option on import or set low_memory=False.\n",
      "  df_temp = pd.read_csv(file)\n"
     ]
    },
    {
     "name": "stdout",
     "output_type": "stream",
     "text": [
      "Loading file 33/52: 202310-citibike-tripdata_3.csv\n"
     ]
    },
    {
     "name": "stderr",
     "output_type": "stream",
     "text": [
      "C:\\Users\\21654\\AppData\\Local\\Temp\\ipykernel_30060\\3385080580.py:18: DtypeWarning: Columns (7) have mixed types. Specify dtype option on import or set low_memory=False.\n",
      "  df_temp = pd.read_csv(file)\n"
     ]
    },
    {
     "name": "stdout",
     "output_type": "stream",
     "text": [
      "Loading file 34/52: 202310-citibike-tripdata_4.csv\n"
     ]
    },
    {
     "name": "stderr",
     "output_type": "stream",
     "text": [
      "C:\\Users\\21654\\AppData\\Local\\Temp\\ipykernel_30060\\3385080580.py:18: DtypeWarning: Columns (7) have mixed types. Specify dtype option on import or set low_memory=False.\n",
      "  df_temp = pd.read_csv(file)\n"
     ]
    },
    {
     "name": "stdout",
     "output_type": "stream",
     "text": [
      "Loading file 35/52: 202311-citibike-tripdata_1.csv\n"
     ]
    },
    {
     "name": "stderr",
     "output_type": "stream",
     "text": [
      "C:\\Users\\21654\\AppData\\Local\\Temp\\ipykernel_30060\\3385080580.py:18: DtypeWarning: Columns (7) have mixed types. Specify dtype option on import or set low_memory=False.\n",
      "  df_temp = pd.read_csv(file)\n"
     ]
    },
    {
     "name": "stdout",
     "output_type": "stream",
     "text": [
      "Loading file 36/52: 202311-citibike-tripdata_2.csv\n"
     ]
    },
    {
     "name": "stderr",
     "output_type": "stream",
     "text": [
      "C:\\Users\\21654\\AppData\\Local\\Temp\\ipykernel_30060\\3385080580.py:18: DtypeWarning: Columns (7) have mixed types. Specify dtype option on import or set low_memory=False.\n",
      "  df_temp = pd.read_csv(file)\n"
     ]
    },
    {
     "name": "stdout",
     "output_type": "stream",
     "text": [
      "Loading file 37/52: 202311-citibike-tripdata_3.csv\n"
     ]
    },
    {
     "name": "stderr",
     "output_type": "stream",
     "text": [
      "C:\\Users\\21654\\AppData\\Local\\Temp\\ipykernel_30060\\3385080580.py:18: DtypeWarning: Columns (7) have mixed types. Specify dtype option on import or set low_memory=False.\n",
      "  df_temp = pd.read_csv(file)\n"
     ]
    },
    {
     "name": "stdout",
     "output_type": "stream",
     "text": [
      "Loading file 38/52: 202312-citibike-tripdata_1.csv\n",
      "Loading file 39/52: 202312-citibike-tripdata_2.csv\n",
      "Loading file 39/52: 202312-citibike-tripdata_2.csv\n"
     ]
    },
    {
     "name": "stderr",
     "output_type": "stream",
     "text": [
      "C:\\Users\\21654\\AppData\\Local\\Temp\\ipykernel_30060\\3385080580.py:18: DtypeWarning: Columns (5,7) have mixed types. Specify dtype option on import or set low_memory=False.\n",
      "  df_temp = pd.read_csv(file)\n"
     ]
    },
    {
     "name": "stdout",
     "output_type": "stream",
     "text": [
      "Loading file 40/52: 202312-citibike-tripdata_3.csv\n"
     ]
    },
    {
     "name": "stderr",
     "output_type": "stream",
     "text": [
      "C:\\Users\\21654\\AppData\\Local\\Temp\\ipykernel_30060\\3385080580.py:18: DtypeWarning: Columns (7) have mixed types. Specify dtype option on import or set low_memory=False.\n",
      "  df_temp = pd.read_csv(file)\n"
     ]
    },
    {
     "name": "stdout",
     "output_type": "stream",
     "text": [
      "Loading file 41/52: 202305-citibike-tripdata_1.csv\n"
     ]
    },
    {
     "name": "stderr",
     "output_type": "stream",
     "text": [
      "C:\\Users\\21654\\AppData\\Local\\Temp\\ipykernel_30060\\3385080580.py:18: DtypeWarning: Columns (7) have mixed types. Specify dtype option on import or set low_memory=False.\n",
      "  df_temp = pd.read_csv(file)\n"
     ]
    },
    {
     "name": "stdout",
     "output_type": "stream",
     "text": [
      "Loading file 42/52: 202305-citibike-tripdata_2.csv\n"
     ]
    },
    {
     "name": "stderr",
     "output_type": "stream",
     "text": [
      "C:\\Users\\21654\\AppData\\Local\\Temp\\ipykernel_30060\\3385080580.py:18: DtypeWarning: Columns (7) have mixed types. Specify dtype option on import or set low_memory=False.\n",
      "  df_temp = pd.read_csv(file)\n"
     ]
    },
    {
     "name": "stdout",
     "output_type": "stream",
     "text": [
      "Loading file 43/52: 202305-citibike-tripdata_3.csv\n"
     ]
    },
    {
     "name": "stderr",
     "output_type": "stream",
     "text": [
      "C:\\Users\\21654\\AppData\\Local\\Temp\\ipykernel_30060\\3385080580.py:18: DtypeWarning: Columns (5,7) have mixed types. Specify dtype option on import or set low_memory=False.\n",
      "  df_temp = pd.read_csv(file)\n"
     ]
    },
    {
     "name": "stdout",
     "output_type": "stream",
     "text": [
      "Loading file 44/52: 202305-citibike-tripdata_4.csv\n"
     ]
    },
    {
     "name": "stderr",
     "output_type": "stream",
     "text": [
      "C:\\Users\\21654\\AppData\\Local\\Temp\\ipykernel_30060\\3385080580.py:18: DtypeWarning: Columns (7) have mixed types. Specify dtype option on import or set low_memory=False.\n",
      "  df_temp = pd.read_csv(file)\n"
     ]
    },
    {
     "name": "stdout",
     "output_type": "stream",
     "text": [
      "Loading file 45/52: 202306-citibike-tripdata_1.csv\n"
     ]
    },
    {
     "name": "stderr",
     "output_type": "stream",
     "text": [
      "C:\\Users\\21654\\AppData\\Local\\Temp\\ipykernel_30060\\3385080580.py:18: DtypeWarning: Columns (5,7) have mixed types. Specify dtype option on import or set low_memory=False.\n",
      "  df_temp = pd.read_csv(file)\n"
     ]
    },
    {
     "name": "stdout",
     "output_type": "stream",
     "text": [
      "Loading file 46/52: 202306-citibike-tripdata_2.csv\n"
     ]
    },
    {
     "name": "stderr",
     "output_type": "stream",
     "text": [
      "C:\\Users\\21654\\AppData\\Local\\Temp\\ipykernel_30060\\3385080580.py:18: DtypeWarning: Columns (5,7) have mixed types. Specify dtype option on import or set low_memory=False.\n",
      "  df_temp = pd.read_csv(file)\n"
     ]
    },
    {
     "name": "stdout",
     "output_type": "stream",
     "text": [
      "Loading file 47/52: 202306-citibike-tripdata_3.csv\n"
     ]
    },
    {
     "name": "stderr",
     "output_type": "stream",
     "text": [
      "C:\\Users\\21654\\AppData\\Local\\Temp\\ipykernel_30060\\3385080580.py:18: DtypeWarning: Columns (5,7) have mixed types. Specify dtype option on import or set low_memory=False.\n",
      "  df_temp = pd.read_csv(file)\n"
     ]
    },
    {
     "name": "stdout",
     "output_type": "stream",
     "text": [
      "Loading file 48/52: 202306-citibike-tripdata_4.csv\n"
     ]
    },
    {
     "name": "stderr",
     "output_type": "stream",
     "text": [
      "C:\\Users\\21654\\AppData\\Local\\Temp\\ipykernel_30060\\3385080580.py:18: DtypeWarning: Columns (5) have mixed types. Specify dtype option on import or set low_memory=False.\n",
      "  df_temp = pd.read_csv(file)\n"
     ]
    },
    {
     "name": "stdout",
     "output_type": "stream",
     "text": [
      "Loading file 49/52: 202307-citibike-tripdata_1.csv\n",
      "Loading file 50/52: 202307-citibike-tripdata_2.csv\n",
      "Loading file 50/52: 202307-citibike-tripdata_2.csv\n"
     ]
    },
    {
     "name": "stderr",
     "output_type": "stream",
     "text": [
      "C:\\Users\\21654\\AppData\\Local\\Temp\\ipykernel_30060\\3385080580.py:18: DtypeWarning: Columns (5,7) have mixed types. Specify dtype option on import or set low_memory=False.\n",
      "  df_temp = pd.read_csv(file)\n"
     ]
    },
    {
     "name": "stdout",
     "output_type": "stream",
     "text": [
      "Loading file 51/52: 202307-citibike-tripdata_3.csv\n"
     ]
    },
    {
     "name": "stderr",
     "output_type": "stream",
     "text": [
      "C:\\Users\\21654\\AppData\\Local\\Temp\\ipykernel_30060\\3385080580.py:18: DtypeWarning: Columns (5) have mixed types. Specify dtype option on import or set low_memory=False.\n",
      "  df_temp = pd.read_csv(file)\n"
     ]
    },
    {
     "name": "stdout",
     "output_type": "stream",
     "text": [
      "Loading file 52/52: 202307-citibike-tripdata_4.csv\n"
     ]
    },
    {
     "name": "stderr",
     "output_type": "stream",
     "text": [
      "C:\\Users\\21654\\AppData\\Local\\Temp\\ipykernel_30060\\3385080580.py:18: DtypeWarning: Columns (5,7) have mixed types. Specify dtype option on import or set low_memory=False.\n",
      "  df_temp = pd.read_csv(file)\n"
     ]
    },
    {
     "name": "stdout",
     "output_type": "stream",
     "text": [
      "\n",
      "Successfully loaded 45671249 rows from 52 files.\n",
      "DataFrame shape: (45671249, 13)\n",
      "Columns: ['ride_id', 'rideable_type', 'started_at', 'ended_at', 'start_station_name', 'start_station_id', 'end_station_name', 'end_station_id', 'start_lat', 'start_lng', 'end_lat', 'end_lng', 'member_casual']\n"
     ]
    }
   ],
   "source": [
    "# Path to citibike root folder (corrected path from notebooks directory)\n",
    "root_dir = Path(\"../data/raw/citibike/2023-citibike-tripdata\")\n",
    "\n",
    "# Find all CSV files in the directory and subdirectories\n",
    "csv_files = list(root_dir.glob(\"**/*.csv\"))\n",
    "\n",
    "print(f\"Found {len(csv_files)} CSV files to load:\")\n",
    "for f in csv_files:\n",
    "    print(f\"  {f.name}\")\n",
    "\n",
    "# Load and combine (only if we found CSV files)\n",
    "if csv_files:\n",
    "    print(f\"\\nLoading {len(csv_files)} files...\")\n",
    "    df_list = []\n",
    "    \n",
    "    for i, file in enumerate(csv_files):\n",
    "        print(f\"Loading file {i+1}/{len(csv_files)}: {file.name}\")\n",
    "        df_temp = pd.read_csv(file)\n",
    "        df_list.append(df_temp)\n",
    "    \n",
    "    df = pd.concat(df_list, ignore_index=True)\n",
    "    print(f\"\\nSuccessfully loaded {len(df)} rows from {len(csv_files)} files.\")\n",
    "    print(f\"DataFrame shape: {df.shape}\")\n",
    "    print(f\"Columns: {list(df.columns)}\")\n",
    "    df.head()\n",
    "else:\n",
    "    print(\"No CSV files found to load!\")"
   ]
  },
  {
   "cell_type": "code",
   "execution_count": 9,
   "id": "0daf0a53",
   "metadata": {},
   "outputs": [
    {
     "data": {
      "text/html": [
       "<div>\n",
       "<style scoped>\n",
       "    .dataframe tbody tr th:only-of-type {\n",
       "        vertical-align: middle;\n",
       "    }\n",
       "\n",
       "    .dataframe tbody tr th {\n",
       "        vertical-align: top;\n",
       "    }\n",
       "\n",
       "    .dataframe thead th {\n",
       "        text-align: right;\n",
       "    }\n",
       "</style>\n",
       "<table border=\"1\" class=\"dataframe\">\n",
       "  <thead>\n",
       "    <tr style=\"text-align: right;\">\n",
       "      <th></th>\n",
       "      <th>ride_id</th>\n",
       "      <th>rideable_type</th>\n",
       "      <th>started_at</th>\n",
       "      <th>ended_at</th>\n",
       "      <th>start_station_name</th>\n",
       "      <th>start_station_id</th>\n",
       "      <th>end_station_name</th>\n",
       "      <th>end_station_id</th>\n",
       "      <th>start_lat</th>\n",
       "      <th>start_lng</th>\n",
       "      <th>end_lat</th>\n",
       "      <th>end_lng</th>\n",
       "      <th>member_casual</th>\n",
       "    </tr>\n",
       "  </thead>\n",
       "  <tbody>\n",
       "    <tr>\n",
       "      <th>0</th>\n",
       "      <td>A8518A6C4BE513DE</td>\n",
       "      <td>classic_bike</td>\n",
       "      <td>2023-01-03 23:14:52.325</td>\n",
       "      <td>2023-01-03 23:33:42.737</td>\n",
       "      <td>E 1 St &amp; Bowery</td>\n",
       "      <td>5636.13</td>\n",
       "      <td>Spruce St &amp; Nassau St</td>\n",
       "      <td>5137.10</td>\n",
       "      <td>40.724861</td>\n",
       "      <td>-73.992131</td>\n",
       "      <td>40.711464</td>\n",
       "      <td>-74.005524</td>\n",
       "      <td>casual</td>\n",
       "    </tr>\n",
       "    <tr>\n",
       "      <th>1</th>\n",
       "      <td>A3911E4F5B9B5773</td>\n",
       "      <td>electric_bike</td>\n",
       "      <td>2023-01-07 07:57:40.054</td>\n",
       "      <td>2023-01-07 08:01:27.330</td>\n",
       "      <td>E 1 St &amp; Bowery</td>\n",
       "      <td>5636.13</td>\n",
       "      <td>Ave A &amp; E 11 St</td>\n",
       "      <td>5703.13</td>\n",
       "      <td>40.724861</td>\n",
       "      <td>-73.992131</td>\n",
       "      <td>40.728547</td>\n",
       "      <td>-73.981759</td>\n",
       "      <td>casual</td>\n",
       "    </tr>\n",
       "    <tr>\n",
       "      <th>2</th>\n",
       "      <td>AE7F74C32AEBF6F2</td>\n",
       "      <td>electric_bike</td>\n",
       "      <td>2023-01-09 18:37:44.830</td>\n",
       "      <td>2023-01-09 18:48:56.233</td>\n",
       "      <td>1 Ave &amp; E 39 St</td>\n",
       "      <td>6303.01</td>\n",
       "      <td>E 14 St &amp; 1 Ave</td>\n",
       "      <td>5779.10</td>\n",
       "      <td>40.747140</td>\n",
       "      <td>-73.971130</td>\n",
       "      <td>40.731393</td>\n",
       "      <td>-73.982867</td>\n",
       "      <td>member</td>\n",
       "    </tr>\n",
       "    <tr>\n",
       "      <th>3</th>\n",
       "      <td>6E10997509D2B7F6</td>\n",
       "      <td>electric_bike</td>\n",
       "      <td>2023-01-05 19:06:15.350</td>\n",
       "      <td>2023-01-05 19:08:33.547</td>\n",
       "      <td>E Burnside Ave &amp; Ryer Ave</td>\n",
       "      <td>8397.02</td>\n",
       "      <td>E Burnside Ave &amp; Ryer Ave</td>\n",
       "      <td>8397.02</td>\n",
       "      <td>40.850535</td>\n",
       "      <td>-73.901318</td>\n",
       "      <td>40.850535</td>\n",
       "      <td>-73.901318</td>\n",
       "      <td>casual</td>\n",
       "    </tr>\n",
       "    <tr>\n",
       "      <th>4</th>\n",
       "      <td>AA546E74A9330BD4</td>\n",
       "      <td>electric_bike</td>\n",
       "      <td>2023-01-02 20:25:23.300</td>\n",
       "      <td>2023-01-03 10:51:25.164</td>\n",
       "      <td>Clermont Ave &amp; Park Ave</td>\n",
       "      <td>4692.01</td>\n",
       "      <td>Clermont Ave &amp; Park Ave</td>\n",
       "      <td>4692.01</td>\n",
       "      <td>40.695734</td>\n",
       "      <td>-73.971297</td>\n",
       "      <td>40.695734</td>\n",
       "      <td>-73.971297</td>\n",
       "      <td>casual</td>\n",
       "    </tr>\n",
       "  </tbody>\n",
       "</table>\n",
       "</div>"
      ],
      "text/plain": [
       "            ride_id  rideable_type               started_at  \\\n",
       "0  A8518A6C4BE513DE   classic_bike  2023-01-03 23:14:52.325   \n",
       "1  A3911E4F5B9B5773  electric_bike  2023-01-07 07:57:40.054   \n",
       "2  AE7F74C32AEBF6F2  electric_bike  2023-01-09 18:37:44.830   \n",
       "3  6E10997509D2B7F6  electric_bike  2023-01-05 19:06:15.350   \n",
       "4  AA546E74A9330BD4  electric_bike  2023-01-02 20:25:23.300   \n",
       "\n",
       "                  ended_at         start_station_name start_station_id  \\\n",
       "0  2023-01-03 23:33:42.737            E 1 St & Bowery          5636.13   \n",
       "1  2023-01-07 08:01:27.330            E 1 St & Bowery          5636.13   \n",
       "2  2023-01-09 18:48:56.233            1 Ave & E 39 St          6303.01   \n",
       "3  2023-01-05 19:08:33.547  E Burnside Ave & Ryer Ave          8397.02   \n",
       "4  2023-01-03 10:51:25.164    Clermont Ave & Park Ave          4692.01   \n",
       "\n",
       "            end_station_name end_station_id  start_lat  start_lng    end_lat  \\\n",
       "0      Spruce St & Nassau St        5137.10  40.724861 -73.992131  40.711464   \n",
       "1            Ave A & E 11 St        5703.13  40.724861 -73.992131  40.728547   \n",
       "2            E 14 St & 1 Ave        5779.10  40.747140 -73.971130  40.731393   \n",
       "3  E Burnside Ave & Ryer Ave        8397.02  40.850535 -73.901318  40.850535   \n",
       "4    Clermont Ave & Park Ave        4692.01  40.695734 -73.971297  40.695734   \n",
       "\n",
       "     end_lng member_casual  \n",
       "0 -74.005524        casual  \n",
       "1 -73.981759        casual  \n",
       "2 -73.982867        member  \n",
       "3 -73.901318        casual  \n",
       "4 -73.971297        casual  "
      ]
     },
     "execution_count": 9,
     "metadata": {},
     "output_type": "execute_result"
    }
   ],
   "source": [
    "# Display first few rows of the data\n",
    "df.head()"
   ]
  },
  {
   "cell_type": "code",
   "execution_count": 10,
   "id": "c24221ac",
   "metadata": {},
   "outputs": [],
   "source": [
    "# Rename columns for consistency\n",
    "df.columns = df.columns.str.strip().str.lower().str.replace(' ', '_')"
   ]
  },
  {
   "cell_type": "code",
   "execution_count": 11,
   "id": "c3e3decf",
   "metadata": {},
   "outputs": [],
   "source": [
    "# Convert timestamps\n",
    "df['started_at'] = pd.to_datetime(df['started_at'])\n",
    "df['ended_at'] = pd.to_datetime(df['ended_at'])"
   ]
  },
  {
   "cell_type": "code",
   "execution_count": null,
   "id": "29cbd757",
   "metadata": {},
   "outputs": [],
   "source": []
  }
 ],
 "metadata": {
  "kernelspec": {
   "display_name": "base",
   "language": "python",
   "name": "python3"
  },
  "language_info": {
   "codemirror_mode": {
    "name": "ipython",
    "version": 3
   },
   "file_extension": ".py",
   "mimetype": "text/x-python",
   "name": "python",
   "nbconvert_exporter": "python",
   "pygments_lexer": "ipython3",
   "version": "3.12.4"
  }
 },
 "nbformat": 4,
 "nbformat_minor": 5
}
